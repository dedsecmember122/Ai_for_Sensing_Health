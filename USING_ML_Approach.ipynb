{
 "cells": [
  {
   "cell_type": "code",
   "execution_count": 43,
   "id": "1896c3e7-f3a3-4e75-a8b6-bb280b8f15d8",
   "metadata": {},
   "outputs": [],
   "source": [
    "import numpy as np\n",
    "import pandas as pd\n",
    "import tsfel\n",
    "from sklearn.svm import SVC\n",
    "from sklearn.preprocessing import StandardScaler\n",
    "from sklearn.metrics import accuracy_score\n",
    "from sklearn.model_selection import train_test_split"
   ]
  },
  {
   "cell_type": "code",
   "execution_count": 44,
   "id": "97e8d828-5597-4006-8a98-da2049075ecb",
   "metadata": {},
   "outputs": [],
   "source": [
    "# Define data paths\n",
    "data_path = r\"C:\\Users\\HP\\Downloads\\UCI HAR Dataset/UCI HAR Dataset/\"\n",
    "inertial_signals = ['body_acc_x', 'body_acc_y', 'body_acc_z', 'body_gyro_x', 'body_gyro_y', 'body_gyro_z']"
   ]
  },
  {
   "cell_type": "code",
   "execution_count": 45,
   "id": "f61daa85-40e7-4a32-88d1-53b2bcfeb9d4",
   "metadata": {},
   "outputs": [],
   "source": [
    "def load_inertial_signals(folder, signals):\n",
    "    data = []\n",
    "    for signal in signals:\n",
    "        file_path = f\"{data_path}{folder}/Inertial Signals/{signal}_{folder}.txt\"\n",
    "        raw_data = np.loadtxt(file_path)\n",
    "        data.append(raw_data)\n",
    "    return np.stack(data, axis=-1)  # Shape: (samples, time_steps, channels)"
   ]
  },
  {
   "cell_type": "code",
   "execution_count": 46,
   "id": "55ab2b5d-f221-4575-9ab9-abc0e1ff9d28",
   "metadata": {},
   "outputs": [],
   "source": [
    "# Load raw inertial signals for train and test sets\n",
    "X_train_raw = load_inertial_signals(\"train\", inertial_signals)\n",
    "X_test_raw = load_inertial_signals(\"test\", inertial_signals)"
   ]
  },
  {
   "cell_type": "code",
   "execution_count": 47,
   "id": "42b1ac62-1c09-410c-9346-0535ea78a5e0",
   "metadata": {},
   "outputs": [],
   "source": [
    "# Load activity labels\n",
    "y_train = np.loadtxt(data_path + \"train/y_train.txt\") - 1\n",
    "y_test = np.loadtxt(data_path + \"test/y_test.txt\") - 1"
   ]
  },
  {
   "cell_type": "code",
   "execution_count": 48,
   "id": "9772035c-de08-4b33-943a-82bb04093adf",
   "metadata": {},
   "outputs": [],
   "source": [
    "# Convert labels to integers for SVM\n",
    "y_train = y_train.astype(int)\n",
    "y_test = y_test.astype(int)"
   ]
  },
  {
   "cell_type": "code",
   "execution_count": 49,
   "id": "ccea366b-9c93-4dc8-bf75-a9870273fc83",
   "metadata": {},
   "outputs": [],
   "source": [
    "# Load predefined features \n",
    "X_train_features = np.loadtxt(data_path + \"train/X_train.txt\")\n",
    "X_test_features = np.loadtxt(data_path + \"test/X_test.txt\")"
   ]
  },
  {
   "cell_type": "code",
   "execution_count": 50,
   "id": "442c1c79-1ea8-4c18-9901-bbda23ff5a39",
   "metadata": {},
   "outputs": [],
   "source": [
    "# Normalize predefined features\n",
    "scaler_features = StandardScaler()\n",
    "X_train_features = scaler_features.fit_transform(X_train_features)\n",
    "X_test_features = scaler_features.transform(X_test_features)"
   ]
  },
  {
   "cell_type": "code",
   "execution_count": 51,
   "id": "d19fe2c2-95ab-4df8-b37a-0c9f5cc59a71",
   "metadata": {},
   "outputs": [],
   "source": [
    "# Load TSFEL feature configuration\n",
    "cfg = tsfel.get_features_by_domain()"
   ]
  },
  {
   "cell_type": "code",
   "execution_count": 52,
   "id": "ad8390f2-0bdf-4084-86e6-cbacefef7003",
   "metadata": {},
   "outputs": [],
   "source": [
    "# Set the sampling frequency \n",
    "for domain in cfg:\n",
    "    for feature in cfg[domain]:\n",
    "        if \"fs\" in cfg[domain][feature]:  \n",
    "            cfg[domain][feature][\"fs\"] = 50  # Set sampling frequency"
   ]
  },
  {
   "cell_type": "code",
   "execution_count": 53,
   "id": "4c431720-b973-40f6-8dc3-7512c2e82226",
   "metadata": {},
   "outputs": [],
   "source": [
    "def extract_features_tsfel(X_data):\n",
    "    feature_set = []\n",
    "    for sample in range(X_data.shape[0]):  # Iterate over each sample\n",
    "        df_sample = pd.DataFrame(X_data[sample], columns=inertial_signals)  # Convert to DataFrame\n",
    "        features = tsfel.time_series_features_extractor(cfg, df_sample, fs=50, verbose=0)  # Extract features\n",
    "        feature_set.append(features.values.flatten())  # Flatten to 1D array\n",
    "    return np.array(feature_set)  # Shape: (samples, features)"
   ]
  },
  {
   "cell_type": "code",
   "execution_count": 54,
   "id": "8900aeaa-7b44-4fbc-aa3f-0ea302dc8cc4",
   "metadata": {},
   "outputs": [],
   "source": [
    "# Extract TSFEL features for training and testing\n",
    "X_train_tsfel = extract_features_tsfel(X_train_raw)\n",
    "X_test_tsfel = extract_features_tsfel(X_test_raw)"
   ]
  },
  {
   "cell_type": "code",
   "execution_count": 55,
   "id": "fe04c517-e3b6-45e9-8bf6-864d367b5978",
   "metadata": {},
   "outputs": [],
   "source": [
    "# Normalize TSFEL features\n",
    "scaler_tsfel = StandardScaler()\n",
    "X_train_tsfel = scaler_tsfel.fit_transform(X_train_tsfel)\n",
    "X_test_tsfel = scaler_tsfel.transform(X_test_tsfel)"
   ]
  },
  {
   "cell_type": "code",
   "execution_count": 56,
   "id": "cd162869-2c9c-4835-b320-ab344fb82224",
   "metadata": {},
   "outputs": [
    {
     "data": {
      "text/html": [
       "<style>#sk-container-id-1 {color: black;background-color: white;}#sk-container-id-1 pre{padding: 0;}#sk-container-id-1 div.sk-toggleable {background-color: white;}#sk-container-id-1 label.sk-toggleable__label {cursor: pointer;display: block;width: 100%;margin-bottom: 0;padding: 0.3em;box-sizing: border-box;text-align: center;}#sk-container-id-1 label.sk-toggleable__label-arrow:before {content: \"▸\";float: left;margin-right: 0.25em;color: #696969;}#sk-container-id-1 label.sk-toggleable__label-arrow:hover:before {color: black;}#sk-container-id-1 div.sk-estimator:hover label.sk-toggleable__label-arrow:before {color: black;}#sk-container-id-1 div.sk-toggleable__content {max-height: 0;max-width: 0;overflow: hidden;text-align: left;background-color: #f0f8ff;}#sk-container-id-1 div.sk-toggleable__content pre {margin: 0.2em;color: black;border-radius: 0.25em;background-color: #f0f8ff;}#sk-container-id-1 input.sk-toggleable__control:checked~div.sk-toggleable__content {max-height: 200px;max-width: 100%;overflow: auto;}#sk-container-id-1 input.sk-toggleable__control:checked~label.sk-toggleable__label-arrow:before {content: \"▾\";}#sk-container-id-1 div.sk-estimator input.sk-toggleable__control:checked~label.sk-toggleable__label {background-color: #d4ebff;}#sk-container-id-1 div.sk-label input.sk-toggleable__control:checked~label.sk-toggleable__label {background-color: #d4ebff;}#sk-container-id-1 input.sk-hidden--visually {border: 0;clip: rect(1px 1px 1px 1px);clip: rect(1px, 1px, 1px, 1px);height: 1px;margin: -1px;overflow: hidden;padding: 0;position: absolute;width: 1px;}#sk-container-id-1 div.sk-estimator {font-family: monospace;background-color: #f0f8ff;border: 1px dotted black;border-radius: 0.25em;box-sizing: border-box;margin-bottom: 0.5em;}#sk-container-id-1 div.sk-estimator:hover {background-color: #d4ebff;}#sk-container-id-1 div.sk-parallel-item::after {content: \"\";width: 100%;border-bottom: 1px solid gray;flex-grow: 1;}#sk-container-id-1 div.sk-label:hover label.sk-toggleable__label {background-color: #d4ebff;}#sk-container-id-1 div.sk-serial::before {content: \"\";position: absolute;border-left: 1px solid gray;box-sizing: border-box;top: 0;bottom: 0;left: 50%;z-index: 0;}#sk-container-id-1 div.sk-serial {display: flex;flex-direction: column;align-items: center;background-color: white;padding-right: 0.2em;padding-left: 0.2em;position: relative;}#sk-container-id-1 div.sk-item {position: relative;z-index: 1;}#sk-container-id-1 div.sk-parallel {display: flex;align-items: stretch;justify-content: center;background-color: white;position: relative;}#sk-container-id-1 div.sk-item::before, #sk-container-id-1 div.sk-parallel-item::before {content: \"\";position: absolute;border-left: 1px solid gray;box-sizing: border-box;top: 0;bottom: 0;left: 50%;z-index: -1;}#sk-container-id-1 div.sk-parallel-item {display: flex;flex-direction: column;z-index: 1;position: relative;background-color: white;}#sk-container-id-1 div.sk-parallel-item:first-child::after {align-self: flex-end;width: 50%;}#sk-container-id-1 div.sk-parallel-item:last-child::after {align-self: flex-start;width: 50%;}#sk-container-id-1 div.sk-parallel-item:only-child::after {width: 0;}#sk-container-id-1 div.sk-dashed-wrapped {border: 1px dashed gray;margin: 0 0.4em 0.5em 0.4em;box-sizing: border-box;padding-bottom: 0.4em;background-color: white;}#sk-container-id-1 div.sk-label label {font-family: monospace;font-weight: bold;display: inline-block;line-height: 1.2em;}#sk-container-id-1 div.sk-label-container {text-align: center;}#sk-container-id-1 div.sk-container {/* jupyter's `normalize.less` sets `[hidden] { display: none; }` but bootstrap.min.css set `[hidden] { display: none !important; }` so we also need the `!important` here to be able to override the default hidden behavior on the sphinx rendered scikit-learn.org. See: https://github.com/scikit-learn/scikit-learn/issues/21755 */display: inline-block !important;position: relative;}#sk-container-id-1 div.sk-text-repr-fallback {display: none;}</style><div id=\"sk-container-id-1\" class=\"sk-top-container\"><div class=\"sk-text-repr-fallback\"><pre>SVC()</pre><b>In a Jupyter environment, please rerun this cell to show the HTML representation or trust the notebook. <br />On GitHub, the HTML representation is unable to render, please try loading this page with nbviewer.org.</b></div><div class=\"sk-container\" hidden><div class=\"sk-item\"><div class=\"sk-estimator sk-toggleable\"><input class=\"sk-toggleable__control sk-hidden--visually\" id=\"sk-estimator-id-1\" type=\"checkbox\" checked><label for=\"sk-estimator-id-1\" class=\"sk-toggleable__label sk-toggleable__label-arrow\">SVC</label><div class=\"sk-toggleable__content\"><pre>SVC()</pre></div></div></div></div></div>"
      ],
      "text/plain": [
       "SVC()"
      ]
     },
     "execution_count": 56,
     "metadata": {},
     "output_type": "execute_result"
    }
   ],
   "source": [
    "# Train SVM on TSFEL Features\n",
    "svm_tsfel = SVC(kernel='rbf')  # Radial Basis Function Kernel\n",
    "svm_tsfel.fit(X_train_tsfel, y_train)"
   ]
  },
  {
   "cell_type": "code",
   "execution_count": 57,
   "id": "4b0e4444-12c7-4e29-8654-1d004e37bbc0",
   "metadata": {},
   "outputs": [
    {
     "name": "stdout",
     "output_type": "stream",
     "text": [
      "SVM Accuracy on TSFEL-Generated Features: 91.21%\n"
     ]
    }
   ],
   "source": [
    "y_pred_tsfel = svm_tsfel.predict(X_test_tsfel)\n",
    "acc_tsfel = accuracy_score(y_test, y_pred_tsfel)\n",
    "print(f\"SVM Accuracy on TSFEL-Generated Features: {acc_tsfel * 100:.2f}%\")"
   ]
  },
  {
   "cell_type": "code",
   "execution_count": 58,
   "id": "c4cfe6dd-4a92-44bc-bff1-79bc4cce94da",
   "metadata": {},
   "outputs": [
    {
     "data": {
      "text/html": [
       "<style>#sk-container-id-2 {color: black;background-color: white;}#sk-container-id-2 pre{padding: 0;}#sk-container-id-2 div.sk-toggleable {background-color: white;}#sk-container-id-2 label.sk-toggleable__label {cursor: pointer;display: block;width: 100%;margin-bottom: 0;padding: 0.3em;box-sizing: border-box;text-align: center;}#sk-container-id-2 label.sk-toggleable__label-arrow:before {content: \"▸\";float: left;margin-right: 0.25em;color: #696969;}#sk-container-id-2 label.sk-toggleable__label-arrow:hover:before {color: black;}#sk-container-id-2 div.sk-estimator:hover label.sk-toggleable__label-arrow:before {color: black;}#sk-container-id-2 div.sk-toggleable__content {max-height: 0;max-width: 0;overflow: hidden;text-align: left;background-color: #f0f8ff;}#sk-container-id-2 div.sk-toggleable__content pre {margin: 0.2em;color: black;border-radius: 0.25em;background-color: #f0f8ff;}#sk-container-id-2 input.sk-toggleable__control:checked~div.sk-toggleable__content {max-height: 200px;max-width: 100%;overflow: auto;}#sk-container-id-2 input.sk-toggleable__control:checked~label.sk-toggleable__label-arrow:before {content: \"▾\";}#sk-container-id-2 div.sk-estimator input.sk-toggleable__control:checked~label.sk-toggleable__label {background-color: #d4ebff;}#sk-container-id-2 div.sk-label input.sk-toggleable__control:checked~label.sk-toggleable__label {background-color: #d4ebff;}#sk-container-id-2 input.sk-hidden--visually {border: 0;clip: rect(1px 1px 1px 1px);clip: rect(1px, 1px, 1px, 1px);height: 1px;margin: -1px;overflow: hidden;padding: 0;position: absolute;width: 1px;}#sk-container-id-2 div.sk-estimator {font-family: monospace;background-color: #f0f8ff;border: 1px dotted black;border-radius: 0.25em;box-sizing: border-box;margin-bottom: 0.5em;}#sk-container-id-2 div.sk-estimator:hover {background-color: #d4ebff;}#sk-container-id-2 div.sk-parallel-item::after {content: \"\";width: 100%;border-bottom: 1px solid gray;flex-grow: 1;}#sk-container-id-2 div.sk-label:hover label.sk-toggleable__label {background-color: #d4ebff;}#sk-container-id-2 div.sk-serial::before {content: \"\";position: absolute;border-left: 1px solid gray;box-sizing: border-box;top: 0;bottom: 0;left: 50%;z-index: 0;}#sk-container-id-2 div.sk-serial {display: flex;flex-direction: column;align-items: center;background-color: white;padding-right: 0.2em;padding-left: 0.2em;position: relative;}#sk-container-id-2 div.sk-item {position: relative;z-index: 1;}#sk-container-id-2 div.sk-parallel {display: flex;align-items: stretch;justify-content: center;background-color: white;position: relative;}#sk-container-id-2 div.sk-item::before, #sk-container-id-2 div.sk-parallel-item::before {content: \"\";position: absolute;border-left: 1px solid gray;box-sizing: border-box;top: 0;bottom: 0;left: 50%;z-index: -1;}#sk-container-id-2 div.sk-parallel-item {display: flex;flex-direction: column;z-index: 1;position: relative;background-color: white;}#sk-container-id-2 div.sk-parallel-item:first-child::after {align-self: flex-end;width: 50%;}#sk-container-id-2 div.sk-parallel-item:last-child::after {align-self: flex-start;width: 50%;}#sk-container-id-2 div.sk-parallel-item:only-child::after {width: 0;}#sk-container-id-2 div.sk-dashed-wrapped {border: 1px dashed gray;margin: 0 0.4em 0.5em 0.4em;box-sizing: border-box;padding-bottom: 0.4em;background-color: white;}#sk-container-id-2 div.sk-label label {font-family: monospace;font-weight: bold;display: inline-block;line-height: 1.2em;}#sk-container-id-2 div.sk-label-container {text-align: center;}#sk-container-id-2 div.sk-container {/* jupyter's `normalize.less` sets `[hidden] { display: none; }` but bootstrap.min.css set `[hidden] { display: none !important; }` so we also need the `!important` here to be able to override the default hidden behavior on the sphinx rendered scikit-learn.org. See: https://github.com/scikit-learn/scikit-learn/issues/21755 */display: inline-block !important;position: relative;}#sk-container-id-2 div.sk-text-repr-fallback {display: none;}</style><div id=\"sk-container-id-2\" class=\"sk-top-container\"><div class=\"sk-text-repr-fallback\"><pre>SVC()</pre><b>In a Jupyter environment, please rerun this cell to show the HTML representation or trust the notebook. <br />On GitHub, the HTML representation is unable to render, please try loading this page with nbviewer.org.</b></div><div class=\"sk-container\" hidden><div class=\"sk-item\"><div class=\"sk-estimator sk-toggleable\"><input class=\"sk-toggleable__control sk-hidden--visually\" id=\"sk-estimator-id-2\" type=\"checkbox\" checked><label for=\"sk-estimator-id-2\" class=\"sk-toggleable__label sk-toggleable__label-arrow\">SVC</label><div class=\"sk-toggleable__content\"><pre>SVC()</pre></div></div></div></div></div>"
      ],
      "text/plain": [
       "SVC()"
      ]
     },
     "execution_count": 58,
     "metadata": {},
     "output_type": "execute_result"
    }
   ],
   "source": [
    "# Train SVM on Predefined Features\n",
    "svm_predefined = SVC(kernel='rbf')\n",
    "svm_predefined.fit(X_train_features, y_train)"
   ]
  },
  {
   "cell_type": "code",
   "execution_count": 59,
   "id": "7fea7cd7-7bf4-47b4-9cd4-bf36eac1785b",
   "metadata": {},
   "outputs": [
    {
     "name": "stdout",
     "output_type": "stream",
     "text": [
      "SVM Accuracy on Predefined Features: 95.22%\n"
     ]
    }
   ],
   "source": [
    "y_pred_predefined = svm_predefined.predict(X_test_features)\n",
    "acc_predefined = accuracy_score(y_test, y_pred_predefined)\n",
    "print(f\"SVM Accuracy on Predefined Features: {acc_predefined * 100:.2f}%\")"
   ]
  },
  {
   "cell_type": "code",
   "execution_count": 60,
   "id": "6e5000ec-3e6f-4721-a926-74ba1840bfbe",
   "metadata": {},
   "outputs": [
    {
     "name": "stdout",
     "output_type": "stream",
     "text": [
      "\n",
      "Comparison of SVM Performance:\n",
      " - SVM with TSFEL Features: 91.21%\n",
      " - SVM with Predefined Features: 95.22%\n"
     ]
    }
   ],
   "source": [
    "# Compare Results\n",
    "print(\"\\nComparison of SVM Performance:\")\n",
    "print(f\" - SVM with TSFEL Features: {acc_tsfel * 100:.2f}%\")\n",
    "print(f\" - SVM with Predefined Features: {acc_predefined * 100:.2f}%\")"
   ]
  },
  {
   "cell_type": "code",
   "execution_count": null,
   "id": "f69aeee3-7716-4c20-b88f-e46a1677d2c1",
   "metadata": {},
   "outputs": [],
   "source": []
  }
 ],
 "metadata": {
  "kernelspec": {
   "display_name": "Python 3 (ipykernel)",
   "language": "python",
   "name": "python3"
  },
  "language_info": {
   "codemirror_mode": {
    "name": "ipython",
    "version": 3
   },
   "file_extension": ".py",
   "mimetype": "text/x-python",
   "name": "python",
   "nbconvert_exporter": "python",
   "pygments_lexer": "ipython3",
   "version": "3.11.7"
  }
 },
 "nbformat": 4,
 "nbformat_minor": 5
}
