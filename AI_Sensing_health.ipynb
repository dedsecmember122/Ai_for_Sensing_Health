{
 "cells": [
  {
   "cell_type": "code",
   "execution_count": 1,
   "id": "f1bb465a-4857-43c3-8147-2d5ea9f1b3f6",
   "metadata": {},
   "outputs": [],
   "source": [
    "#Importing the important library that we will need in our project \n",
    "import numpy as np\n",
    "import pandas as pd\n",
    "import tensorflow as tf\n",
    "from tensorflow.keras.models import Sequential\n",
    "from tensorflow.keras.layers import Conv1D, MaxPooling1D, Flatten, Dense, Dropout, BatchNormalization\n",
    "from tensorflow.keras.utils import to_categorical\n",
    "from sklearn.model_selection import train_test_split\n"
   ]
  },
  {
   "cell_type": "code",
   "execution_count": 2,
   "id": "901fef80-e92d-4243-9091-f5f2b267a44a",
   "metadata": {},
   "outputs": [],
   "source": [
    "# giving path of my data set \n",
    "DATA_PATH = r\"C:\\Users\\HP\\Downloads\\UCI HAR Dataset/UCI HAR Dataset/\""
   ]
  },
  {
   "cell_type": "code",
   "execution_count": 3,
   "id": "da704c25-e075-4e58-8866-6d9f71204767",
   "metadata": {},
   "outputs": [],
   "source": [
    "# List of inertial signals to load\n",
    "#all the signals where i am going to predict on raw signals \n",
    "INERTIAL_SIGNALS = ['body_acc_x', 'body_acc_y', 'body_acc_z', 'body_gyro_x', 'body_gyro_y', 'body_gyro_z'] \n"
   ]
  },
  {
   "cell_type": "code",
   "execution_count": 4,
   "id": "084bf07d-1029-4375-80ac-f87dae8fefe7",
   "metadata": {},
   "outputs": [],
   "source": [
    "\"\"\"Loads all the raw data from the dataset.\"\"\"\n",
    "#making a fuction \n",
    "def load_inertial_signals(folder, signals):  # folder - Specifies whether to load training (\"train\") or test (\"test\") data. signals :- raw data \n",
    "    \n",
    "    data = [] # creating empty list :) \n",
    "    for signal in signals: # loop in signal file \n",
    "        file_path = f\"{DATA_PATH}{folder}/Inertial Signals/{signal}_{folder}.txt\" #this is my file path \n",
    "        signal_data = np.loadtxt(file_path) #this function will  load my file \n",
    "        data.append(signal_data) #append the data to signal file \n",
    "    return np.stack(data, axis=-1)   #converts the data list into a NumPy array with an extra dimension. axis =-1\n"
   ]
  },
  {
   "cell_type": "code",
   "execution_count": 9,
   "id": "feda47bb-29da-436e-ba9c-0b99809fb11f",
   "metadata": {},
   "outputs": [],
   "source": [
    "#Load training and test data\n",
    "X_train_raw = load_inertial_signals(\"train\", INERTIAL_SIGNALS)\n",
    "X_test_raw = load_inertial_signals(\"test\", INERTIAL_SIGNALS)\n",
    "\n",
    "y_train = np.loadtxt(DATA_PATH + \"train/y_train.txt\") - 1 # Loads the  labels from a text\n",
    "y_test = np.loadtxt(DATA_PATH + \"test/y_test.txt\") - 1 # -1 is used -  Python we prefer 0-based indexing , labels are[1,4,2,3] - so [0,3,1,2]\n",
    "#one-hot encoding use 0 based indexing "
   ]
  },
  {
   "cell_type": "code",
   "execution_count": 13,
   "id": "77302632-85a6-4b7c-b9eb-ea83c462bfa1",
   "metadata": {},
   "outputs": [],
   "source": [
    "y_train = to_categorical(y_train, num_classes=6)  \n",
    "y_test = to_categorical(y_test, num_classes=6)"
   ]
  },
  {
   "cell_type": "code",
   "execution_count": 15,
   "id": "5aa57e61-730b-437b-992a-0aaf96af40ab",
   "metadata": {},
   "outputs": [],
   "source": [
    "#Reads precomputed  features\n",
    "X_train_features = np.loadtxt(DATA_PATH + \"train/X_train.txt\")\n",
    "X_test_features = np.loadtxt(DATA_PATH + \"test/X_test.txt\")"
   ]
  },
  {
   "cell_type": "code",
   "execution_count": 19,
   "id": "6767f9aa-6ab2-40d3-8021-63c5b376e2be",
   "metadata": {},
   "outputs": [],
   "source": [
    "#Normalize\n",
    "X_train_features = (X_train_features - np.mean(X_train_features, axis=0)) / np.std(X_train_features, axis=0)\n",
    "X_test_features = (X_test_features - np.mean(X_test_features, axis=0)) / np.std(X_test_features, axis=0)"
   ]
  },
  {
   "cell_type": "code",
   "execution_count": 41,
   "id": "f7f3eaf6-5b11-465b-adf7-e59db8881cba",
   "metadata": {},
   "outputs": [],
   "source": [
    "#1D CNN for Raw Signals\n",
    "#Extracts patterns \n",
    "#Reduces feature size.\n",
    "#probabilities for 6 activity classes\n",
    "model_raw = Sequential([\n",
    "    Conv1D(filters=64, kernel_size=3, activation='relu', input_shape=(128, 6)),\n",
    "    BatchNormalization(),\n",
    "    MaxPooling1D(pool_size=2),\n",
    "    \n",
    "    Conv1D(filters=128, kernel_size=3, activation='relu'),\n",
    "    BatchNormalization(),\n",
    "    MaxPooling1D(pool_size=2),\n",
    "    \n",
    "    Conv1D(filters=256, kernel_size=3, activation='relu'),\n",
    "    BatchNormalization(),\n",
    "    MaxPooling1D(pool_size=2),\n",
    "    \n",
    "    Flatten(),\n",
    "    Dense(128, activation='relu'),\n",
    "    Dropout(0.5),\n",
    "    Dense(64, activation='relu'),\n",
    "    Dropout(0.5),\n",
    "    Dense(6, activation='softmax')\n",
    "])\n"
   ]
  },
  {
   "cell_type": "code",
   "execution_count": 61,
   "id": "142fdcf5-1c76-4b01-b604-0701cf98b847",
   "metadata": {},
   "outputs": [
    {
     "name": "stdout",
     "output_type": "stream",
     "text": [
      "Epoch 1/40\n",
      "\u001b[1m230/230\u001b[0m \u001b[32m━━━━━━━━━━━━━━━━━━━━\u001b[0m\u001b[37m\u001b[0m \u001b[1m5s\u001b[0m 15ms/step - accuracy: 0.8742 - loss: 0.3217 - val_accuracy: 0.8191 - val_loss: 0.4977\n",
      "Epoch 2/40\n",
      "\u001b[1m230/230\u001b[0m \u001b[32m━━━━━━━━━━━━━━━━━━━━\u001b[0m\u001b[37m\u001b[0m \u001b[1m3s\u001b[0m 14ms/step - accuracy: 0.8949 - loss: 0.2823 - val_accuracy: 0.7699 - val_loss: 0.8257\n",
      "Epoch 3/40\n",
      "\u001b[1m230/230\u001b[0m \u001b[32m━━━━━━━━━━━━━━━━━━━━\u001b[0m\u001b[37m\u001b[0m \u001b[1m3s\u001b[0m 13ms/step - accuracy: 0.8813 - loss: 0.2846 - val_accuracy: 0.8103 - val_loss: 0.8051\n",
      "Epoch 4/40\n",
      "\u001b[1m230/230\u001b[0m \u001b[32m━━━━━━━━━━━━━━━━━━━━\u001b[0m\u001b[37m\u001b[0m \u001b[1m3s\u001b[0m 13ms/step - accuracy: 0.8822 - loss: 0.3449 - val_accuracy: 0.7258 - val_loss: 1.5216\n",
      "Epoch 5/40\n",
      "\u001b[1m230/230\u001b[0m \u001b[32m━━━━━━━━━━━━━━━━━━━━\u001b[0m\u001b[37m\u001b[0m \u001b[1m3s\u001b[0m 12ms/step - accuracy: 0.8941 - loss: 0.2707 - val_accuracy: 0.7991 - val_loss: 0.7657\n",
      "Epoch 6/40\n",
      "\u001b[1m230/230\u001b[0m \u001b[32m━━━━━━━━━━━━━━━━━━━━\u001b[0m\u001b[37m\u001b[0m \u001b[1m3s\u001b[0m 14ms/step - accuracy: 0.9053 - loss: 0.2779 - val_accuracy: 0.8904 - val_loss: 0.3694\n",
      "Epoch 7/40\n",
      "\u001b[1m230/230\u001b[0m \u001b[32m━━━━━━━━━━━━━━━━━━━━\u001b[0m\u001b[37m\u001b[0m \u001b[1m3s\u001b[0m 13ms/step - accuracy: 0.9181 - loss: 0.2184 - val_accuracy: 0.8945 - val_loss: 0.3150\n",
      "Epoch 8/40\n",
      "\u001b[1m230/230\u001b[0m \u001b[32m━━━━━━━━━━━━━━━━━━━━\u001b[0m\u001b[37m\u001b[0m \u001b[1m3s\u001b[0m 13ms/step - accuracy: 0.9118 - loss: 0.2405 - val_accuracy: 0.9125 - val_loss: 0.3483\n",
      "Epoch 9/40\n",
      "\u001b[1m230/230\u001b[0m \u001b[32m━━━━━━━━━━━━━━━━━━━━\u001b[0m\u001b[37m\u001b[0m \u001b[1m3s\u001b[0m 14ms/step - accuracy: 0.9193 - loss: 0.2086 - val_accuracy: 0.8717 - val_loss: 0.3888\n",
      "Epoch 10/40\n",
      "\u001b[1m230/230\u001b[0m \u001b[32m━━━━━━━━━━━━━━━━━━━━\u001b[0m\u001b[37m\u001b[0m \u001b[1m3s\u001b[0m 13ms/step - accuracy: 0.9157 - loss: 0.2062 - val_accuracy: 0.8972 - val_loss: 0.4266\n",
      "Epoch 11/40\n",
      "\u001b[1m230/230\u001b[0m \u001b[32m━━━━━━━━━━━━━━━━━━━━\u001b[0m\u001b[37m\u001b[0m \u001b[1m3s\u001b[0m 13ms/step - accuracy: 0.9256 - loss: 0.2030 - val_accuracy: 0.8487 - val_loss: 0.5115\n",
      "Epoch 12/40\n",
      "\u001b[1m230/230\u001b[0m \u001b[32m━━━━━━━━━━━━━━━━━━━━\u001b[0m\u001b[37m\u001b[0m \u001b[1m3s\u001b[0m 13ms/step - accuracy: 0.9366 - loss: 0.1757 - val_accuracy: 0.8140 - val_loss: 1.0888\n",
      "Epoch 13/40\n",
      "\u001b[1m230/230\u001b[0m \u001b[32m━━━━━━━━━━━━━━━━━━━━\u001b[0m\u001b[37m\u001b[0m \u001b[1m3s\u001b[0m 13ms/step - accuracy: 0.9277 - loss: 0.2183 - val_accuracy: 0.8955 - val_loss: 0.3896\n",
      "Epoch 14/40\n",
      "\u001b[1m230/230\u001b[0m \u001b[32m━━━━━━━━━━━━━━━━━━━━\u001b[0m\u001b[37m\u001b[0m \u001b[1m3s\u001b[0m 13ms/step - accuracy: 0.9355 - loss: 0.1840 - val_accuracy: 0.8395 - val_loss: 0.4858\n",
      "Epoch 15/40\n",
      "\u001b[1m230/230\u001b[0m \u001b[32m━━━━━━━━━━━━━━━━━━━━\u001b[0m\u001b[37m\u001b[0m \u001b[1m3s\u001b[0m 13ms/step - accuracy: 0.9383 - loss: 0.1751 - val_accuracy: 0.8721 - val_loss: 0.5598\n",
      "Epoch 16/40\n",
      "\u001b[1m230/230\u001b[0m \u001b[32m━━━━━━━━━━━━━━━━━━━━\u001b[0m\u001b[37m\u001b[0m \u001b[1m3s\u001b[0m 13ms/step - accuracy: 0.9380 - loss: 0.1687 - val_accuracy: 0.8819 - val_loss: 0.4282\n",
      "Epoch 17/40\n",
      "\u001b[1m230/230\u001b[0m \u001b[32m━━━━━━━━━━━━━━━━━━━━\u001b[0m\u001b[37m\u001b[0m \u001b[1m3s\u001b[0m 13ms/step - accuracy: 0.9485 - loss: 0.1545 - val_accuracy: 0.9138 - val_loss: 0.2799\n",
      "Epoch 18/40\n",
      "\u001b[1m230/230\u001b[0m \u001b[32m━━━━━━━━━━━━━━━━━━━━\u001b[0m\u001b[37m\u001b[0m \u001b[1m3s\u001b[0m 13ms/step - accuracy: 0.9441 - loss: 0.1595 - val_accuracy: 0.8904 - val_loss: 0.4091\n",
      "Epoch 19/40\n",
      "\u001b[1m230/230\u001b[0m \u001b[32m━━━━━━━━━━━━━━━━━━━━\u001b[0m\u001b[37m\u001b[0m \u001b[1m3s\u001b[0m 13ms/step - accuracy: 0.9415 - loss: 0.1599 - val_accuracy: 0.9382 - val_loss: 0.2457\n",
      "Epoch 20/40\n",
      "\u001b[1m230/230\u001b[0m \u001b[32m━━━━━━━━━━━━━━━━━━━━\u001b[0m\u001b[37m\u001b[0m \u001b[1m3s\u001b[0m 13ms/step - accuracy: 0.9521 - loss: 0.1388 - val_accuracy: 0.9264 - val_loss: 0.2522\n",
      "Epoch 21/40\n",
      "\u001b[1m230/230\u001b[0m \u001b[32m━━━━━━━━━━━━━━━━━━━━\u001b[0m\u001b[37m\u001b[0m \u001b[1m3s\u001b[0m 13ms/step - accuracy: 0.9448 - loss: 0.1466 - val_accuracy: 0.8473 - val_loss: 0.5577\n",
      "Epoch 22/40\n",
      "\u001b[1m230/230\u001b[0m \u001b[32m━━━━━━━━━━━━━━━━━━━━\u001b[0m\u001b[37m\u001b[0m \u001b[1m3s\u001b[0m 13ms/step - accuracy: 0.9470 - loss: 0.1486 - val_accuracy: 0.8806 - val_loss: 0.4668\n",
      "Epoch 23/40\n",
      "\u001b[1m230/230\u001b[0m \u001b[32m━━━━━━━━━━━━━━━━━━━━\u001b[0m\u001b[37m\u001b[0m \u001b[1m3s\u001b[0m 13ms/step - accuracy: 0.9524 - loss: 0.1344 - val_accuracy: 0.9264 - val_loss: 0.2571\n",
      "Epoch 24/40\n",
      "\u001b[1m230/230\u001b[0m \u001b[32m━━━━━━━━━━━━━━━━━━━━\u001b[0m\u001b[37m\u001b[0m \u001b[1m3s\u001b[0m 13ms/step - accuracy: 0.9510 - loss: 0.1409 - val_accuracy: 0.9318 - val_loss: 0.2533\n",
      "Epoch 25/40\n",
      "\u001b[1m230/230\u001b[0m \u001b[32m━━━━━━━━━━━━━━━━━━━━\u001b[0m\u001b[37m\u001b[0m \u001b[1m3s\u001b[0m 13ms/step - accuracy: 0.9596 - loss: 0.1273 - val_accuracy: 0.9043 - val_loss: 0.3741\n",
      "Epoch 26/40\n",
      "\u001b[1m230/230\u001b[0m \u001b[32m━━━━━━━━━━━━━━━━━━━━\u001b[0m\u001b[37m\u001b[0m \u001b[1m3s\u001b[0m 13ms/step - accuracy: 0.9567 - loss: 0.1218 - val_accuracy: 0.9128 - val_loss: 0.3562\n",
      "Epoch 27/40\n",
      "\u001b[1m230/230\u001b[0m \u001b[32m━━━━━━━━━━━━━━━━━━━━\u001b[0m\u001b[37m\u001b[0m \u001b[1m3s\u001b[0m 13ms/step - accuracy: 0.9555 - loss: 0.1239 - val_accuracy: 0.9131 - val_loss: 0.3408\n",
      "Epoch 28/40\n",
      "\u001b[1m230/230\u001b[0m \u001b[32m━━━━━━━━━━━━━━━━━━━━\u001b[0m\u001b[37m\u001b[0m \u001b[1m3s\u001b[0m 13ms/step - accuracy: 0.9604 - loss: 0.1164 - val_accuracy: 0.9199 - val_loss: 0.3411\n",
      "Epoch 29/40\n",
      "\u001b[1m230/230\u001b[0m \u001b[32m━━━━━━━━━━━━━━━━━━━━\u001b[0m\u001b[37m\u001b[0m \u001b[1m3s\u001b[0m 13ms/step - accuracy: 0.9622 - loss: 0.1136 - val_accuracy: 0.9199 - val_loss: 0.3957\n",
      "Epoch 30/40\n",
      "\u001b[1m230/230\u001b[0m \u001b[32m━━━━━━━━━━━━━━━━━━━━\u001b[0m\u001b[37m\u001b[0m \u001b[1m3s\u001b[0m 13ms/step - accuracy: 0.9541 - loss: 0.1424 - val_accuracy: 0.9389 - val_loss: 0.2745\n",
      "Epoch 31/40\n",
      "\u001b[1m230/230\u001b[0m \u001b[32m━━━━━━━━━━━━━━━━━━━━\u001b[0m\u001b[37m\u001b[0m \u001b[1m3s\u001b[0m 13ms/step - accuracy: 0.9621 - loss: 0.1089 - val_accuracy: 0.9091 - val_loss: 0.5236\n",
      "Epoch 32/40\n",
      "\u001b[1m230/230\u001b[0m \u001b[32m━━━━━━━━━━━━━━━━━━━━\u001b[0m\u001b[37m\u001b[0m \u001b[1m3s\u001b[0m 13ms/step - accuracy: 0.9535 - loss: 0.1252 - val_accuracy: 0.9382 - val_loss: 0.2405\n",
      "Epoch 33/40\n",
      "\u001b[1m230/230\u001b[0m \u001b[32m━━━━━━━━━━━━━━━━━━━━\u001b[0m\u001b[37m\u001b[0m \u001b[1m3s\u001b[0m 13ms/step - accuracy: 0.9605 - loss: 0.1112 - val_accuracy: 0.9104 - val_loss: 0.4423\n",
      "Epoch 34/40\n",
      "\u001b[1m230/230\u001b[0m \u001b[32m━━━━━━━━━━━━━━━━━━━━\u001b[0m\u001b[37m\u001b[0m \u001b[1m3s\u001b[0m 13ms/step - accuracy: 0.9711 - loss: 0.0900 - val_accuracy: 0.9477 - val_loss: 0.2333\n",
      "Epoch 35/40\n",
      "\u001b[1m230/230\u001b[0m \u001b[32m━━━━━━━━━━━━━━━━━━━━\u001b[0m\u001b[37m\u001b[0m \u001b[1m3s\u001b[0m 13ms/step - accuracy: 0.9714 - loss: 0.0923 - val_accuracy: 0.9264 - val_loss: 0.3050\n",
      "Epoch 36/40\n",
      "\u001b[1m230/230\u001b[0m \u001b[32m━━━━━━━━━━━━━━━━━━━━\u001b[0m\u001b[37m\u001b[0m \u001b[1m3s\u001b[0m 13ms/step - accuracy: 0.9640 - loss: 0.1129 - val_accuracy: 0.8948 - val_loss: 0.4749\n",
      "Epoch 37/40\n",
      "\u001b[1m230/230\u001b[0m \u001b[32m━━━━━━━━━━━━━━━━━━━━\u001b[0m\u001b[37m\u001b[0m \u001b[1m3s\u001b[0m 13ms/step - accuracy: 0.9606 - loss: 0.1084 - val_accuracy: 0.9304 - val_loss: 0.3515\n",
      "Epoch 38/40\n",
      "\u001b[1m230/230\u001b[0m \u001b[32m━━━━━━━━━━━━━━━━━━━━\u001b[0m\u001b[37m\u001b[0m \u001b[1m3s\u001b[0m 13ms/step - accuracy: 0.9715 - loss: 0.0879 - val_accuracy: 0.8656 - val_loss: 0.7321\n",
      "Epoch 39/40\n",
      "\u001b[1m230/230\u001b[0m \u001b[32m━━━━━━━━━━━━━━━━━━━━\u001b[0m\u001b[37m\u001b[0m \u001b[1m3s\u001b[0m 13ms/step - accuracy: 0.9690 - loss: 0.0833 - val_accuracy: 0.9094 - val_loss: 0.4451\n",
      "Epoch 40/40\n",
      "\u001b[1m230/230\u001b[0m \u001b[32m━━━━━━━━━━━━━━━━━━━━\u001b[0m\u001b[37m\u001b[0m \u001b[1m3s\u001b[0m 13ms/step - accuracy: 0.9604 - loss: 0.1111 - val_accuracy: 0.9321 - val_loss: 0.2768\n",
      "\u001b[1m93/93\u001b[0m \u001b[32m━━━━━━━━━━━━━━━━━━━━\u001b[0m\u001b[37m\u001b[0m \u001b[1m0s\u001b[0m 3ms/step - accuracy: 0.9239 - loss: 0.3135\n"
     ]
    }
   ],
   "source": [
    "\n",
    "model_raw.compile(optimizer='adam', loss='categorical_crossentropy', metrics=['accuracy'])\n",
    "#Train & Evaluate\n",
    "model_raw.fit(X_train_raw, y_train, validation_data=(X_test_raw, y_test), epochs=40, batch_size=32)\n",
    "test_loss_raw, test_acc_raw = model_raw.evaluate(X_test_raw, y_test)"
   ]
  },
  {
   "cell_type": "code",
   "execution_count": 63,
   "id": "2fdd2c53-3aef-4b5e-8eeb-03a6bde6e92f",
   "metadata": {},
   "outputs": [],
   "source": [
    "#MLP for Predefined Features\n",
    "model_features = Sequential([\n",
    "    Dense(512, activation='relu', input_shape=(X_train_features.shape[1],)),\n",
    "    Dropout(0.5),\n",
    "    Dense(256, activation='relu'),\n",
    "    Dropout(0.5),\n",
    "    Dense(128, activation='relu'),\n",
    "    Dropout(0.5),\n",
    "    Dense(6, activation='softmax')\n",
    "])"
   ]
  },
  {
   "cell_type": "code",
   "execution_count": 65,
   "id": "d22234e8-0773-496a-8664-367c8a5d9a55",
   "metadata": {},
   "outputs": [],
   "source": [
    "# Train & Evaluate the MLP Model\n",
    "model_features.compile(optimizer='adam', loss='categorical_crossentropy', metrics=['accuracy'])"
   ]
  },
  {
   "cell_type": "code",
   "execution_count": 67,
   "id": "3d1656f8-4a92-461d-9f5c-93aa3a05fb9d",
   "metadata": {},
   "outputs": [
    {
     "name": "stdout",
     "output_type": "stream",
     "text": [
      "Epoch 1/40\n",
      "\u001b[1m230/230\u001b[0m \u001b[32m━━━━━━━━━━━━━━━━━━━━\u001b[0m\u001b[37m\u001b[0m \u001b[1m2s\u001b[0m 5ms/step - accuracy: 0.5709 - loss: 1.2257 - val_accuracy: 0.8694 - val_loss: 0.2621\n",
      "Epoch 2/40\n",
      "\u001b[1m230/230\u001b[0m \u001b[32m━━━━━━━━━━━━━━━━━━━━\u001b[0m\u001b[37m\u001b[0m \u001b[1m1s\u001b[0m 4ms/step - accuracy: 0.8644 - loss: 0.3424 - val_accuracy: 0.9403 - val_loss: 0.1753\n",
      "Epoch 3/40\n",
      "\u001b[1m230/230\u001b[0m \u001b[32m━━━━━━━━━━━━━━━━━━━━\u001b[0m\u001b[37m\u001b[0m \u001b[1m1s\u001b[0m 4ms/step - accuracy: 0.9159 - loss: 0.2153 - val_accuracy: 0.9376 - val_loss: 0.1698\n",
      "Epoch 4/40\n",
      "\u001b[1m230/230\u001b[0m \u001b[32m━━━━━━━━━━━━━━━━━━━━\u001b[0m\u001b[37m\u001b[0m \u001b[1m1s\u001b[0m 4ms/step - accuracy: 0.9371 - loss: 0.1858 - val_accuracy: 0.9335 - val_loss: 0.1758\n",
      "Epoch 5/40\n",
      "\u001b[1m230/230\u001b[0m \u001b[32m━━━━━━━━━━━━━━━━━━━━\u001b[0m\u001b[37m\u001b[0m \u001b[1m1s\u001b[0m 4ms/step - accuracy: 0.9517 - loss: 0.1405 - val_accuracy: 0.8928 - val_loss: 0.2615\n",
      "Epoch 6/40\n",
      "\u001b[1m230/230\u001b[0m \u001b[32m━━━━━━━━━━━━━━━━━━━━\u001b[0m\u001b[37m\u001b[0m \u001b[1m1s\u001b[0m 4ms/step - accuracy: 0.9494 - loss: 0.1377 - val_accuracy: 0.9471 - val_loss: 0.1585\n",
      "Epoch 7/40\n",
      "\u001b[1m230/230\u001b[0m \u001b[32m━━━━━━━━━━━━━━━━━━━━\u001b[0m\u001b[37m\u001b[0m \u001b[1m1s\u001b[0m 4ms/step - accuracy: 0.9583 - loss: 0.1167 - val_accuracy: 0.9406 - val_loss: 0.1730\n",
      "Epoch 8/40\n",
      "\u001b[1m230/230\u001b[0m \u001b[32m━━━━━━━━━━━━━━━━━━━━\u001b[0m\u001b[37m\u001b[0m \u001b[1m1s\u001b[0m 4ms/step - accuracy: 0.9529 - loss: 0.1387 - val_accuracy: 0.9369 - val_loss: 0.1668\n",
      "Epoch 9/40\n",
      "\u001b[1m230/230\u001b[0m \u001b[32m━━━━━━━━━━━━━━━━━━━━\u001b[0m\u001b[37m\u001b[0m \u001b[1m1s\u001b[0m 4ms/step - accuracy: 0.9605 - loss: 0.1111 - val_accuracy: 0.9535 - val_loss: 0.1360\n",
      "Epoch 10/40\n",
      "\u001b[1m230/230\u001b[0m \u001b[32m━━━━━━━━━━━━━━━━━━━━\u001b[0m\u001b[37m\u001b[0m \u001b[1m1s\u001b[0m 4ms/step - accuracy: 0.9681 - loss: 0.0937 - val_accuracy: 0.9393 - val_loss: 0.2269\n",
      "Epoch 11/40\n",
      "\u001b[1m230/230\u001b[0m \u001b[32m━━━━━━━━━━━━━━━━━━━━\u001b[0m\u001b[37m\u001b[0m \u001b[1m1s\u001b[0m 4ms/step - accuracy: 0.9647 - loss: 0.1048 - val_accuracy: 0.9505 - val_loss: 0.1524\n",
      "Epoch 12/40\n",
      "\u001b[1m230/230\u001b[0m \u001b[32m━━━━━━━━━━━━━━━━━━━━\u001b[0m\u001b[37m\u001b[0m \u001b[1m1s\u001b[0m 4ms/step - accuracy: 0.9651 - loss: 0.0935 - val_accuracy: 0.9444 - val_loss: 0.2332\n",
      "Epoch 13/40\n",
      "\u001b[1m230/230\u001b[0m \u001b[32m━━━━━━━━━━━━━━━━━━━━\u001b[0m\u001b[37m\u001b[0m \u001b[1m1s\u001b[0m 4ms/step - accuracy: 0.9679 - loss: 0.0931 - val_accuracy: 0.9474 - val_loss: 0.2344\n",
      "Epoch 14/40\n",
      "\u001b[1m230/230\u001b[0m \u001b[32m━━━━━━━━━━━━━━━━━━━━\u001b[0m\u001b[37m\u001b[0m \u001b[1m1s\u001b[0m 4ms/step - accuracy: 0.9660 - loss: 0.0990 - val_accuracy: 0.9528 - val_loss: 0.1759\n",
      "Epoch 15/40\n",
      "\u001b[1m230/230\u001b[0m \u001b[32m━━━━━━━━━━━━━━━━━━━━\u001b[0m\u001b[37m\u001b[0m \u001b[1m1s\u001b[0m 4ms/step - accuracy: 0.9673 - loss: 0.1032 - val_accuracy: 0.9243 - val_loss: 0.1917\n",
      "Epoch 16/40\n",
      "\u001b[1m230/230\u001b[0m \u001b[32m━━━━━━━━━━━━━━━━━━━━\u001b[0m\u001b[37m\u001b[0m \u001b[1m1s\u001b[0m 4ms/step - accuracy: 0.9691 - loss: 0.0881 - val_accuracy: 0.9481 - val_loss: 0.1700\n",
      "Epoch 17/40\n",
      "\u001b[1m230/230\u001b[0m \u001b[32m━━━━━━━━━━━━━━━━━━━━\u001b[0m\u001b[37m\u001b[0m \u001b[1m1s\u001b[0m 4ms/step - accuracy: 0.9660 - loss: 0.0922 - val_accuracy: 0.9464 - val_loss: 0.2369\n",
      "Epoch 18/40\n",
      "\u001b[1m230/230\u001b[0m \u001b[32m━━━━━━━━━━━━━━━━━━━━\u001b[0m\u001b[37m\u001b[0m \u001b[1m1s\u001b[0m 4ms/step - accuracy: 0.9700 - loss: 0.0915 - val_accuracy: 0.9457 - val_loss: 0.1946\n",
      "Epoch 19/40\n",
      "\u001b[1m230/230\u001b[0m \u001b[32m━━━━━━━━━━━━━━━━━━━━\u001b[0m\u001b[37m\u001b[0m \u001b[1m1s\u001b[0m 4ms/step - accuracy: 0.9730 - loss: 0.0678 - val_accuracy: 0.9450 - val_loss: 0.2320\n",
      "Epoch 20/40\n",
      "\u001b[1m230/230\u001b[0m \u001b[32m━━━━━━━━━━━━━━━━━━━━\u001b[0m\u001b[37m\u001b[0m \u001b[1m1s\u001b[0m 4ms/step - accuracy: 0.9731 - loss: 0.0885 - val_accuracy: 0.9315 - val_loss: 0.2930\n",
      "Epoch 21/40\n",
      "\u001b[1m230/230\u001b[0m \u001b[32m━━━━━━━━━━━━━━━━━━━━\u001b[0m\u001b[37m\u001b[0m \u001b[1m1s\u001b[0m 4ms/step - accuracy: 0.9677 - loss: 0.0818 - val_accuracy: 0.9511 - val_loss: 0.1881\n",
      "Epoch 22/40\n",
      "\u001b[1m230/230\u001b[0m \u001b[32m━━━━━━━━━━━━━━━━━━━━\u001b[0m\u001b[37m\u001b[0m \u001b[1m1s\u001b[0m 4ms/step - accuracy: 0.9713 - loss: 0.1058 - val_accuracy: 0.9447 - val_loss: 0.1950\n",
      "Epoch 23/40\n",
      "\u001b[1m230/230\u001b[0m \u001b[32m━━━━━━━━━━━━━━━━━━━━\u001b[0m\u001b[37m\u001b[0m \u001b[1m1s\u001b[0m 4ms/step - accuracy: 0.9711 - loss: 0.0847 - val_accuracy: 0.9515 - val_loss: 0.2317\n",
      "Epoch 24/40\n",
      "\u001b[1m230/230\u001b[0m \u001b[32m━━━━━━━━━━━━━━━━━━━━\u001b[0m\u001b[37m\u001b[0m \u001b[1m1s\u001b[0m 4ms/step - accuracy: 0.9765 - loss: 0.0704 - val_accuracy: 0.9379 - val_loss: 0.2176\n",
      "Epoch 25/40\n",
      "\u001b[1m230/230\u001b[0m \u001b[32m━━━━━━━━━━━━━━━━━━━━\u001b[0m\u001b[37m\u001b[0m \u001b[1m1s\u001b[0m 4ms/step - accuracy: 0.9770 - loss: 0.0633 - val_accuracy: 0.9579 - val_loss: 0.1446\n",
      "Epoch 26/40\n",
      "\u001b[1m230/230\u001b[0m \u001b[32m━━━━━━━━━━━━━━━━━━━━\u001b[0m\u001b[37m\u001b[0m \u001b[1m1s\u001b[0m 4ms/step - accuracy: 0.9808 - loss: 0.0598 - val_accuracy: 0.9528 - val_loss: 0.1689\n",
      "Epoch 27/40\n",
      "\u001b[1m230/230\u001b[0m \u001b[32m━━━━━━━━━━━━━━━━━━━━\u001b[0m\u001b[37m\u001b[0m \u001b[1m1s\u001b[0m 4ms/step - accuracy: 0.9735 - loss: 0.0693 - val_accuracy: 0.9413 - val_loss: 0.2553\n",
      "Epoch 28/40\n",
      "\u001b[1m230/230\u001b[0m \u001b[32m━━━━━━━━━━━━━━━━━━━━\u001b[0m\u001b[37m\u001b[0m \u001b[1m1s\u001b[0m 4ms/step - accuracy: 0.9782 - loss: 0.0711 - val_accuracy: 0.9522 - val_loss: 0.1731\n",
      "Epoch 29/40\n",
      "\u001b[1m230/230\u001b[0m \u001b[32m━━━━━━━━━━━━━━━━━━━━\u001b[0m\u001b[37m\u001b[0m \u001b[1m1s\u001b[0m 4ms/step - accuracy: 0.9748 - loss: 0.0791 - val_accuracy: 0.9542 - val_loss: 0.2085\n",
      "Epoch 30/40\n",
      "\u001b[1m230/230\u001b[0m \u001b[32m━━━━━━━━━━━━━━━━━━━━\u001b[0m\u001b[37m\u001b[0m \u001b[1m1s\u001b[0m 4ms/step - accuracy: 0.9794 - loss: 0.0638 - val_accuracy: 0.9471 - val_loss: 0.2949\n",
      "Epoch 31/40\n",
      "\u001b[1m230/230\u001b[0m \u001b[32m━━━━━━━━━━━━━━━━━━━━\u001b[0m\u001b[37m\u001b[0m \u001b[1m1s\u001b[0m 4ms/step - accuracy: 0.9754 - loss: 0.0723 - val_accuracy: 0.9501 - val_loss: 0.2010\n",
      "Epoch 32/40\n",
      "\u001b[1m230/230\u001b[0m \u001b[32m━━━━━━━━━━━━━━━━━━━━\u001b[0m\u001b[37m\u001b[0m \u001b[1m1s\u001b[0m 4ms/step - accuracy: 0.9848 - loss: 0.0454 - val_accuracy: 0.9444 - val_loss: 0.2213\n",
      "Epoch 33/40\n",
      "\u001b[1m230/230\u001b[0m \u001b[32m━━━━━━━━━━━━━━━━━━━━\u001b[0m\u001b[37m\u001b[0m \u001b[1m1s\u001b[0m 4ms/step - accuracy: 0.9823 - loss: 0.0569 - val_accuracy: 0.9555 - val_loss: 0.1876\n",
      "Epoch 34/40\n",
      "\u001b[1m230/230\u001b[0m \u001b[32m━━━━━━━━━━━━━━━━━━━━\u001b[0m\u001b[37m\u001b[0m \u001b[1m1s\u001b[0m 4ms/step - accuracy: 0.9820 - loss: 0.0678 - val_accuracy: 0.9532 - val_loss: 0.1989\n",
      "Epoch 35/40\n",
      "\u001b[1m230/230\u001b[0m \u001b[32m━━━━━━━━━━━━━━━━━━━━\u001b[0m\u001b[37m\u001b[0m \u001b[1m1s\u001b[0m 4ms/step - accuracy: 0.9833 - loss: 0.0463 - val_accuracy: 0.9505 - val_loss: 0.2046\n",
      "Epoch 36/40\n",
      "\u001b[1m230/230\u001b[0m \u001b[32m━━━━━━━━━━━━━━━━━━━━\u001b[0m\u001b[37m\u001b[0m \u001b[1m1s\u001b[0m 4ms/step - accuracy: 0.9832 - loss: 0.0483 - val_accuracy: 0.9474 - val_loss: 0.2723\n",
      "Epoch 37/40\n",
      "\u001b[1m230/230\u001b[0m \u001b[32m━━━━━━━━━━━━━━━━━━━━\u001b[0m\u001b[37m\u001b[0m \u001b[1m1s\u001b[0m 4ms/step - accuracy: 0.9821 - loss: 0.0491 - val_accuracy: 0.9477 - val_loss: 0.2637\n",
      "Epoch 38/40\n",
      "\u001b[1m230/230\u001b[0m \u001b[32m━━━━━━━━━━━━━━━━━━━━\u001b[0m\u001b[37m\u001b[0m \u001b[1m1s\u001b[0m 4ms/step - accuracy: 0.9795 - loss: 0.0528 - val_accuracy: 0.9467 - val_loss: 0.3207\n",
      "Epoch 39/40\n",
      "\u001b[1m230/230\u001b[0m \u001b[32m━━━━━━━━━━━━━━━━━━━━\u001b[0m\u001b[37m\u001b[0m \u001b[1m1s\u001b[0m 4ms/step - accuracy: 0.9840 - loss: 0.0474 - val_accuracy: 0.9589 - val_loss: 0.2152\n",
      "Epoch 40/40\n",
      "\u001b[1m230/230\u001b[0m \u001b[32m━━━━━━━━━━━━━━━━━━━━\u001b[0m\u001b[37m\u001b[0m \u001b[1m1s\u001b[0m 4ms/step - accuracy: 0.9786 - loss: 0.0676 - val_accuracy: 0.9542 - val_loss: 0.2254\n"
     ]
    },
    {
     "data": {
      "text/plain": [
       "<keras.src.callbacks.history.History at 0x2361ecf7c90>"
      ]
     },
     "execution_count": 67,
     "metadata": {},
     "output_type": "execute_result"
    }
   ],
   "source": [
    "# Train & Evaluate the MLP Model\n",
    "model_features.fit(X_train_features, y_train, validation_data=(X_test_features, y_test), epochs=40, batch_size=32)"
   ]
  },
  {
   "cell_type": "code",
   "execution_count": 53,
   "id": "e6f363dc-e24b-4fc3-a263-7066e7460420",
   "metadata": {},
   "outputs": [
    {
     "name": "stdout",
     "output_type": "stream",
     "text": [
      "\u001b[1m93/93\u001b[0m \u001b[32m━━━━━━━━━━━━━━━━━━━━\u001b[0m\u001b[37m\u001b[0m \u001b[1m0s\u001b[0m 2ms/step - accuracy: 0.9427 - loss: 0.1703\n"
     ]
    }
   ],
   "source": [
    "test_loss_features, test_acc_features = model_features.evaluate(X_test_features, y_test)"
   ]
  },
  {
   "cell_type": "code",
   "execution_count": 69,
   "id": "afd16ffb-6f57-4328-9bf6-90b4bb7ad18b",
   "metadata": {},
   "outputs": [
    {
     "name": "stdout",
     "output_type": "stream",
     "text": [
      "Test Accuracy raw signals: 93.21343898773193%\n"
     ]
    }
   ],
   "source": [
    "#test Accuracy on raw Signals \n",
    "print(f\"Test Accuracy raw signals: {test_acc_raw * 100:}%\")\n"
   ]
  },
  {
   "cell_type": "code",
   "execution_count": 71,
   "id": "5f12b653-7590-47fc-b510-50c0e649c6c3",
   "metadata": {},
   "outputs": [
    {
     "name": "stdout",
     "output_type": "stream",
     "text": [
      "Test Accuracy Predefined Features: 94.7404146194458%\n"
     ]
    }
   ],
   "source": [
    "#Test Accuracy on Predefined features \n",
    "print(f\"Test Accuracy Predefined Features: {test_acc_features * 100:}%\")"
   ]
  },
  {
   "cell_type": "code",
   "execution_count": null,
   "id": "6973142e-c1fb-4594-8d83-cb1310f2f13b",
   "metadata": {},
   "outputs": [],
   "source": [
    "#Accuracvy on Predefined features is better than Accuracy of model trained  on raw signal."
   ]
  },
  {
   "cell_type": "code",
   "execution_count": null,
   "id": "b2c7f9d8-4a4e-4c05-a736-3289e9f0aafe",
   "metadata": {},
   "outputs": [],
   "source": []
  }
 ],
 "metadata": {
  "kernelspec": {
   "display_name": "Python 3 (ipykernel)",
   "language": "python",
   "name": "python3"
  },
  "language_info": {
   "codemirror_mode": {
    "name": "ipython",
    "version": 3
   },
   "file_extension": ".py",
   "mimetype": "text/x-python",
   "name": "python",
   "nbconvert_exporter": "python",
   "pygments_lexer": "ipython3",
   "version": "3.11.7"
  }
 },
 "nbformat": 4,
 "nbformat_minor": 5
}
